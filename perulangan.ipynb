{
 "cells": [
  {
   "cell_type": "code",
   "execution_count": 5,
   "id": "f82c796e",
   "metadata": {},
   "outputs": [
    {
     "ename": "SyntaxError",
     "evalue": "invalid syntax (3325977401.py, line 4)",
     "output_type": "error",
     "traceback": [
      "\u001b[1;36m  Input \u001b[1;32mIn [5]\u001b[1;36m\u001b[0m\n\u001b[1;33m    print (i int)\u001b[0m\n\u001b[1;37m             ^\u001b[0m\n\u001b[1;31mSyntaxError\u001b[0m\u001b[1;31m:\u001b[0m invalid syntax\n"
     ]
    }
   ],
   "source": [
    "#for IN RANGE\n",
    "# PRINT 1-10\n",
    "for i in range(1,11):\n",
    "    print (i)\n",
    "    \n",
    "    "
   ]
  },
  {
   "cell_type": "code",
   "execution_count": 6,
   "id": "98274847",
   "metadata": {},
   "outputs": [
    {
     "name": "stdout",
     "output_type": "stream",
     "text": [
      "10\n",
      "20\n",
      "30\n",
      "40\n",
      "50\n",
      "60\n",
      "70\n",
      "80\n",
      "90\n",
      "100\n"
     ]
    }
   ],
   "source": [
    "#print 10 20 30 40 ----- 100\n",
    "for i in range (1,11):\n",
    "    print(i*10)\n",
    "    "
   ]
  },
  {
   "cell_type": "code",
   "execution_count": 17,
   "id": "d538c320",
   "metadata": {},
   "outputs": [
    {
     "name": "stdout",
     "output_type": "stream",
     "text": [
      "10\n",
      "20\n",
      "30\n",
      "40\n",
      "50\n",
      "60\n",
      "70\n",
      "80\n",
      "90\n"
     ]
    }
   ],
   "source": [
    "for i in range (10,100,10):\n",
    "    print (i)\n",
    "    "
   ]
  },
  {
   "cell_type": "code",
   "execution_count": 12,
   "id": "25fb3018",
   "metadata": {},
   "outputs": [
    {
     "name": "stdout",
     "output_type": "stream",
     "text": [
      "10\n",
      "9\n",
      "8\n",
      "7\n",
      "6\n",
      "5\n",
      "4\n",
      "3\n",
      "2\n",
      "1\n"
     ]
    }
   ],
   "source": [
    "for i in range (10,0,-1):\n",
    "    print (i)"
   ]
  },
  {
   "cell_type": "code",
   "execution_count": 31,
   "id": "3c566757",
   "metadata": {},
   "outputs": [
    {
     "name": "stdout",
     "output_type": "stream",
     "text": [
      "1\n",
      "-2\n",
      "3\n",
      "-4\n",
      "5\n",
      "-6\n",
      "7\n",
      "-8\n",
      "9\n",
      "-10\n"
     ]
    }
   ],
   "source": [
    "# 1-2 3-4 5 -6 7 -8\n",
    "sign = 1 \n",
    "for i in range (1,11):\n",
    "    print( i * sign)\n",
    "    sign *= -1 \n"
   ]
  },
  {
   "cell_type": "code",
   "execution_count": 47,
   "id": "053b165e",
   "metadata": {},
   "outputs": [
    {
     "name": "stdout",
     "output_type": "stream",
     "text": [
      "isikan bilangan:6\n",
      "Faktorialdari 6! adalah 1\n",
      "Faktorialdari 6! adalah 2\n",
      "Faktorialdari 6! adalah 6\n",
      "Faktorialdari 6! adalah 24\n",
      "Faktorialdari 6! adalah 120\n",
      "Faktorialdari 6! adalah 720\n"
     ]
    }
   ],
   "source": [
    "# faktorial => 4*3*2*1 = 24\n",
    "\n",
    "number = int (input('isikan bilangan:'))\n",
    "sign = 1\n",
    "for i in range (1,number+1):\n",
    "    sign = sign*i\n",
    "    print (f\"Faktorialdari {number}! adalah {sign}\")\n"
   ]
  },
  {
   "cell_type": "code",
   "execution_count": 66,
   "id": "264e0e07",
   "metadata": {},
   "outputs": [
    {
     "name": "stdout",
     "output_type": "stream",
     "text": [
      "isikan bilangan :3\n",
      "isikan pangkat :2\n",
      "3 pangkat 2 adalah 3\n",
      "3 pangkat 2 adalah 9\n"
     ]
    }
   ],
   "source": [
    "bilangan = int (input('isikan bilangan :'))\n",
    "pangkat = int (input('isikan pangkat :'))\n",
    "number = 1\n",
    "for i in range (1,pangkat+1):\n",
    "    number = number*bilangan \n",
    "    print(f\"{bilangan} pangkat {pangkat} adalah {number}\")"
   ]
  },
  {
   "cell_type": "code",
   "execution_count": 91,
   "id": "a0e20cc5",
   "metadata": {},
   "outputs": [
    {
     "name": "stdout",
     "output_type": "stream",
     "text": [
      "isikan bilangan :85\n",
      "85 adalah bilangan prima\n"
     ]
    }
   ],
   "source": [
    "#cek bilangan prima\n",
    "# bil. prima\n",
    "\n",
    "#jika  number % i == 0 maka nilai faktor di increment (+1)\n",
    "#setelah selesai perulangan, jika faktor ==00 maka bilangan prima\n",
    "\n",
    "number = int(input('isikan bilangan :'))\n",
    "faktor = 0\n",
    "for i in range (1,number+1):\n",
    "    sisa = number % i\n",
    "    if number % 1 == 0 :\n",
    "        faktor = faktor + 1\n",
    "if faktor == 2 :\n",
    "    print (f\"{number} adalah bilangan prima\")\n",
    "else :\n",
    "    print (f\"{number} adalah bilangan prima\")\n"
   ]
  },
  {
   "cell_type": "code",
   "execution_count": 106,
   "id": "b4ba420c",
   "metadata": {},
   "outputs": [
    {
     "name": "stdout",
     "output_type": "stream",
     "text": [
      "22\n",
      "0 U\n",
      "1 n\n",
      "2 i\n",
      "3 v\n",
      "4 e\n",
      "5 r\n",
      "6 s\n",
      "7 i\n",
      "8 t\n",
      "9 a\n",
      "10 s\n",
      "11  \n",
      "12 N\n",
      "13 u\n",
      "14 s\n",
      "15 a\n",
      "16  \n",
      "17 P\n",
      "18 u\n",
      "19 t\n",
      "20 r\n",
      "21 a\n",
      "jumlah huruf  a : 3\n",
      "jumlah huruf  e : 1\n",
      "jumlah huruf  u : 3\n",
      "jumlah huruf  i : 2\n",
      "jumlah huruf  o : 0\n",
      "jumlah huruf vokal: 9\n"
     ]
    }
   ],
   "source": [
    "#hitung panjang\n",
    "kampus = \"Universitas Nusa Putra\"\n",
    "print(len(kampus))\n",
    "\n",
    "for i,huruf in  enumerate(kampus) :\n",
    "    print (i,  huruf)\n",
    "\n",
    "vokal_a = 0\n",
    "vokal_i = 0\n",
    "vokal_u = 0\n",
    "vokal_e = 0\n",
    "vokal_o = 0\n",
    "panjang = len(kampus)\n",
    "for j in range (0,panjang):\n",
    "    if kampus[j]== 'a':\n",
    "        vokal_a +=1\n",
    "    elif kampus[j]=='e':\n",
    "        vokal_e +=1\n",
    "    elif kampus[j]=='i':\n",
    "        vokal_i +=1\n",
    "    elif kampus[j]=='u'or kampus [j]=='U':\n",
    "        vokal_u +=1\n",
    "    elif kampus[j]=='o':\n",
    "        vokal_o +=1\n",
    "vokal='aiueo'\n",
    "jumlah_vokal =0\n",
    "for j in kampus :\n",
    "    if j.lower()in vokal:\n",
    "        jumlah_vokal += 1\n",
    "print(f\"jumlah huruf  a : {vokal_a}\")\n",
    "print(f\"jumlah huruf  e : {vokal_e}\")\n",
    "print(f\"jumlah huruf  u : {vokal_u}\")\n",
    "print(f\"jumlah huruf  i : {vokal_i}\")\n",
    "print(f\"jumlah huruf  o : {vokal_o}\")\n",
    "print('jumlah huruf vokal:',jumlah_vokal )"
   ]
  },
  {
   "cell_type": "code",
   "execution_count": 110,
   "id": "b96d660f",
   "metadata": {},
   "outputs": [
    {
     "name": "stdout",
     "output_type": "stream",
     "text": [
      "Nama :  advent clement zendrato\n",
      "jumlah huruf  a : 2\n",
      "jumlah huruf  e : 4\n",
      "jumlah huruf  u : 0\n",
      "jumlah huruf  i : 0\n",
      "jumlah huruf  o : 1\n",
      "jumlah huruf vokal: 7\n"
     ]
    }
   ],
   "source": [
    "nama =(input('Nama : '))\n",
    "\n",
    "vokal_a = 0\n",
    "vokal_i = 0\n",
    "vokal_u = 0\n",
    "vokal_e = 0\n",
    "vokal_o = 0\n",
    "panjang = len(nama)\n",
    "for j in range (0,panjang):\n",
    "    if nama[j]== 'a':\n",
    "        vokal_a +=1\n",
    "    elif nama[j]=='e':\n",
    "        vokal_e +=1\n",
    "    elif nama[j]=='i':\n",
    "        vokal_i +=1\n",
    "    elif nama[j]=='u'or nama [j]=='U':\n",
    "        vokal_u +=1\n",
    "    elif nama[j]=='o':\n",
    "        vokal_o +=1\n",
    "        \n",
    "vokal='aiueo'\n",
    "jumlah_vokal =0\n",
    "for j in nama :\n",
    "    if j.lower()in vokal:\n",
    "        jumlah_vokal += 1\n",
    "        \n",
    "        \n",
    "print(f\"jumlah huruf  a : {vokal_a}\")\n",
    "print(f\"jumlah huruf  e : {vokal_e}\")\n",
    "print(f\"jumlah huruf  u : {vokal_u}\")\n",
    "print(f\"jumlah huruf  i : {vokal_i}\")\n",
    "print(f\"jumlah huruf  o : {vokal_o}\")\n",
    "print('jumlah huruf vokal:',jumlah_vokal )"
   ]
  },
  {
   "cell_type": "code",
   "execution_count": 130,
   "id": "3f1329f9",
   "metadata": {},
   "outputs": [
    {
     "name": "stdout",
     "output_type": "stream",
     "text": [
      "isikan kalimat : kasur\n",
      "k\n",
      "kasuradalah Bukan Palindrome\n",
      "k r\n",
      "apakah mau mengulang program ? : Y/Ty\n",
      "isikan kalimat : ada\n",
      "a\n",
      "d\n",
      "a\n",
      "adaadalah Palindrome\n",
      "apakah mau mengulang program ? : Y/Tt\n"
     ]
    }
   ],
   "source": [
    "ulang = \"Y\"\n",
    "while(ulang == \"Y\" or ulang == \"y\"):\n",
    "    kalimat = (input('isikan kalimat : '))\n",
    "    panjang_kalimat = len(kalimat)\n",
    "\n",
    "\n",
    "    isPalindrome = True\n",
    "    for i in range (0,panjang_kalimat):\n",
    "        urut = kalimat [i]\n",
    "        print (kalimat [i])\n",
    "        kebalikan = kalimat[panjang_kalimat -i -1]\n",
    "        if urut != kebalikan :\n",
    "            isPalindrome = False\n",
    "            break\n",
    "\n",
    "    if isPalindrome :\n",
    "        print (f\"{kalimat}adalah Palindrome\")\n",
    "    else :\n",
    "        print (f\"{kalimat}adalah Bukan Palindrome\")\n",
    "        print (urut,kebalikan)\n",
    "    ulang = input (\"apakah mau mengulang program ? : Y/T\")\n",
    "    "
   ]
  },
  {
   "cell_type": "code",
   "execution_count": 131,
   "id": "e071775c",
   "metadata": {},
   "outputs": [
    {
     "name": "stdout",
     "output_type": "stream",
     "text": [
      "i : 1 dan j : 1 \n",
      "i : 1 dan j : 2 \n",
      "i : 1 dan j : 3 \n",
      "i : 1 dan j : 4 \n",
      "i : 2 dan j : 1 \n",
      "i : 2 dan j : 2 \n",
      "i : 2 dan j : 3 \n",
      "i : 2 dan j : 4 \n",
      "i : 3 dan j : 1 \n",
      "i : 3 dan j : 2 \n",
      "i : 3 dan j : 3 \n",
      "i : 3 dan j : 4 \n",
      "i : 4 dan j : 1 \n",
      "i : 4 dan j : 2 \n",
      "i : 4 dan j : 3 \n",
      "i : 4 dan j : 4 \n"
     ]
    }
   ],
   "source": [
    "#Nested For\n",
    "for i in range (1,5):\n",
    "    for j in range (1,5) :\n",
    "        print (f\"i : {i} dan j : {j} \")"
   ]
  },
  {
   "cell_type": "code",
   "execution_count": null,
   "id": "a4a054d5",
   "metadata": {},
   "outputs": [],
   "source": []
  }
 ],
 "metadata": {
  "kernelspec": {
   "display_name": "Python 3 (ipykernel)",
   "language": "python",
   "name": "python3"
  },
  "language_info": {
   "codemirror_mode": {
    "name": "ipython",
    "version": 3
   },
   "file_extension": ".py",
   "mimetype": "text/x-python",
   "name": "python",
   "nbconvert_exporter": "python",
   "pygments_lexer": "ipython3",
   "version": "3.9.12"
  }
 },
 "nbformat": 4,
 "nbformat_minor": 5
}
